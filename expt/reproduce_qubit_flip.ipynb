{
 "cells": [
  {
   "cell_type": "code",
   "execution_count": 1,
   "id": "6e4ab0ec-37a1-4d22-a4cb-169a6c44f089",
   "metadata": {
    "tags": []
   },
   "outputs": [
    {
     "name": "stdout",
     "output_type": "stream",
     "text": [
      "Obtaining file:///mnt/c/Users/every/OneDrive/Documents/Yataiga/QFoam/GitHub/RdQuantum/RdQuantum\n",
      "  Preparing metadata (setup.py) ... \u001b[?25ldone\n",
      "\u001b[?25hRequirement already satisfied: gymnasium==0.28.1 in /home/tzuhsuan/pyenv/qcrl/lib/python3.10/site-packages (from rdquantum==2023.4.22) (0.28.1)\n",
      "Requirement already satisfied: qutip==4.7.0 in /home/tzuhsuan/pyenv/qcrl/lib/python3.10/site-packages (from rdquantum==2023.4.22) (4.7.0)\n",
      "Requirement already satisfied: typing-extensions>=4.3.0 in /home/tzuhsuan/pyenv/qcrl/lib/python3.10/site-packages (from gymnasium==0.28.1->rdquantum==2023.4.22) (4.5.0)\n",
      "Requirement already satisfied: numpy>=1.21.0 in /home/tzuhsuan/pyenv/qcrl/lib/python3.10/site-packages (from gymnasium==0.28.1->rdquantum==2023.4.22) (1.23.5)\n",
      "Requirement already satisfied: jax-jumpy>=1.0.0 in /home/tzuhsuan/pyenv/qcrl/lib/python3.10/site-packages (from gymnasium==0.28.1->rdquantum==2023.4.22) (1.0.0)\n",
      "Requirement already satisfied: cloudpickle>=1.2.0 in /home/tzuhsuan/pyenv/qcrl/lib/python3.10/site-packages (from gymnasium==0.28.1->rdquantum==2023.4.22) (2.2.1)\n",
      "Requirement already satisfied: farama-notifications>=0.0.1 in /home/tzuhsuan/pyenv/qcrl/lib/python3.10/site-packages (from gymnasium==0.28.1->rdquantum==2023.4.22) (0.0.4)\n",
      "Requirement already satisfied: packaging in /home/tzuhsuan/pyenv/qcrl/lib/python3.10/site-packages (from qutip==4.7.0->rdquantum==2023.4.22) (23.1)\n",
      "Requirement already satisfied: scipy>=1.0 in /home/tzuhsuan/pyenv/qcrl/lib/python3.10/site-packages (from qutip==4.7.0->rdquantum==2023.4.22) (1.10.1)\n",
      "Installing collected packages: rdquantum\n",
      "  Attempting uninstall: rdquantum\n",
      "    Found existing installation: rdquantum 2023.4.22\n",
      "    Uninstalling rdquantum-2023.4.22:\n",
      "      Successfully uninstalled rdquantum-2023.4.22\n",
      "  Running setup.py develop for rdquantum\n",
      "Successfully installed rdquantum-2023.4.22\n",
      "Note: you may need to restart the kernel to use updated packages.\n"
     ]
    }
   ],
   "source": [
    "pip install -e RdQuantum"
   ]
  },
  {
   "cell_type": "code",
   "execution_count": 2,
   "id": "b6646086-6d64-4ac7-9f24-4a4e37648147",
   "metadata": {},
   "outputs": [],
   "source": [
    "# import the gymnasium and the environment wrapper\n",
    "import gymnasium as gym\n",
    "import rdquantum\n",
    "\n",
    "from ray.rllib.algorithms import ppo\n",
    "from ray.rllib.algorithms.ppo import PPOConfig\n",
    "from ray.tune.logger import pretty_print\n",
    "from ray.tune.registry import register_env\n",
    "\n",
    "import matplotlib.pyplot as plt\n",
    "import numpy as np\n",
    "\n",
    "plt.rcParams[\"figure.figsize\"] = (10, 5)"
   ]
  },
  {
   "cell_type": "markdown",
   "id": "780f25ed-fc55-4ea9-9755-4b16907222a4",
   "metadata": {},
   "source": [
    "# Loading Environment"
   ]
  },
  {
   "cell_type": "code",
   "execution_count": 3,
   "id": "64ef5ea8-0d1a-4453-ad2c-e420a2e10ecd",
   "metadata": {},
   "outputs": [],
   "source": [
    "# load environment\n",
    "env = gym.make('rdquantum/QubitStatePrep-v2023.04.11')\n",
    "\n",
    "def env_creator(env_config):\n",
    "    return env  # return an env instance\n",
    "\n",
    "register_env(\"QubitStatePrep-v2023.04.11\", env_creator)"
   ]
  },
  {
   "cell_type": "code",
   "execution_count": 4,
   "id": "6679bafd-d131-490f-9c1a-d929da39d88b",
   "metadata": {
    "tags": []
   },
   "outputs": [
    {
     "name": "stderr",
     "output_type": "stream",
     "text": [
      "2023-04-22 11:25:41,662\tINFO worker.py:1553 -- Started a local Ray instance.\n",
      "2023-04-22 11:25:57,623\tINFO trainable.py:172 -- Trainable.setup took 19.277 seconds. If your trainable is slow to initialize, consider setting reuse_actors=True to reduce actor creation overheads.\n",
      "2023-04-22 11:25:57,630\tWARNING util.py:67 -- Install gputil for GPU system monitoring.\n"
     ]
    }
   ],
   "source": [
    "algo = (\n",
    "    PPOConfig()\n",
    "    .training(train_batch_size=30, sgd_minibatch_size=30, num_sgd_iter=20)\n",
    "    .rollouts(num_rollout_workers=1)\n",
    "    .resources(num_gpus=0)\n",
    "    # .environment(env='QubitStatePrep-v2023.04.11', disable_env_checking=True)\n",
    "    .environment(env='QubitStatePrep-v2023.04.11', disable_env_checking=True)\n",
    "    .build()\n",
    ")\n",
    "\n",
    "episode_rewards = []\n",
    "for i in range(50):\n",
    "    result = algo.train()\n",
    "    episode_reward = np.asarray(result['hist_stats']['episode_reward'][-30:])\n",
    "    episode_rewards.append(episode_reward)\n",
    "\n",
    "#     if i % 5 == 0:\n",
    "#         checkpoint_dir = algo.save()\n",
    "#         print(f\"Checkpoint saved in directory {checkpoint_dir}\")\n",
    "episode_rewards = np.asarray(episode_rewards)"
   ]
  },
  {
   "cell_type": "code",
   "execution_count": 5,
   "id": "ab7b9c5d-f521-4900-9ef2-ace3fe17964e",
   "metadata": {},
   "outputs": [
    {
     "data": {
      "image/png": "[encoded data removed]",
      "text/plain": [
       "<Figure size 600x360 with 1 Axes>"
      ]
     },
     "metadata": {
      "needs_background": "light"
     },
     "output_type": "display_data"
    }
   ],
   "source": [
    "plt.matshow(episode_rewards.transpose())\n",
    "plt.xlabel(\"Epoch\")\n",
    "plt.ylabel(\"Episode\")\n",
    "plt.gca().invert_yaxis()\n",
    "plt.gca().tick_params(axis=\"x\", bottom=True, top=False, labelbottom=True, labeltop=False)\n",
    "# plt.colorbar()"
   ]
  }
 ],
 "metadata": {
  "kernelspec": {
   "display_name": "Python 3",
   "language": "python",
   "name": "python3"
  },
  "language_info": {
   "codemirror_mode": {
    "name": "ipython",
    "version": 3
   },
   "file_extension": ".py",
   "mimetype": "text/x-python",
   "name": "python",
   "nbconvert_exporter": "python",
   "pygments_lexer": "ipython3",
   "version": "3.10.6"
  }
 },
 "nbformat": 4,
 "nbformat_minor": 5
}
