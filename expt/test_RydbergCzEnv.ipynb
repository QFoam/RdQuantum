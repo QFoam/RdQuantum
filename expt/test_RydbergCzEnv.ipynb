{
 "cells": [
  {
   "cell_type": "code",
   "execution_count": 1,
   "id": "b0d699ba-1fc5-4e6b-acd2-3399886cb583",
   "metadata": {},
   "outputs": [],
   "source": [
    "import gymnasium as gym\n",
    "from rdquantum.hamiltonian import Rydberg_Cz\n",
    "\n",
    "from ray.rllib.algorithms import ppo\n",
    "from ray.rllib.algorithms.ppo import PPOConfig\n",
    "from ray.tune.logger import pretty_print\n",
    "from ray.tune.registry import register_env\n",
    "\n",
    "import matplotlib.pyplot as plt\n",
    "import numpy as np\n",
    "\n",
    "plt.rcParams[\"figure.figsize\"] = (10, 5)"
   ]
  },
  {
   "cell_type": "code",
   "execution_count": 2,
   "id": "8816008e",
   "metadata": {},
   "outputs": [
    {
     "ename": "TypeError",
     "evalue": "can't multiply sequence by non-int of type 'float'",
     "output_type": "error",
     "traceback": [
      "\u001b[0;31m---------------------------------------------------------------------------\u001b[0m",
      "\u001b[0;31mTypeError\u001b[0m                                 Traceback (most recent call last)",
      "Cell \u001b[0;32mIn [2], line 8\u001b[0m\n\u001b[1;32m      1\u001b[0m H \u001b[38;5;241m=\u001b[39m Rydberg_Cz()\n\u001b[1;32m      2\u001b[0m action \u001b[38;5;241m=\u001b[39m {\n\u001b[1;32m      3\u001b[0m     \u001b[38;5;124m'\u001b[39m\u001b[38;5;124momega_p_amp\u001b[39m\u001b[38;5;124m'\u001b[39m: [\u001b[38;5;241m100\u001b[39m],\n\u001b[1;32m      4\u001b[0m     \u001b[38;5;124m'\u001b[39m\u001b[38;5;124momega_r_amp\u001b[39m\u001b[38;5;124m'\u001b[39m: [\u001b[38;5;241m175\u001b[39m],\n\u001b[1;32m      5\u001b[0m     \u001b[38;5;124m'\u001b[39m\u001b[38;5;124mdelta_p_amp\u001b[39m\u001b[38;5;124m'\u001b[39m: [\u001b[38;5;241m400\u001b[39m],\n\u001b[1;32m      6\u001b[0m     \u001b[38;5;124m'\u001b[39m\u001b[38;5;124mgate_time\u001b[39m\u001b[38;5;124m'\u001b[39m: [\u001b[38;5;241m1.0\u001b[39m]\n\u001b[1;32m      7\u001b[0m }\n\u001b[0;32m----> 8\u001b[0m fidelity \u001b[38;5;241m=\u001b[39m \u001b[43mH\u001b[49m\u001b[38;5;241;43m.\u001b[39;49m\u001b[43mevaluation\u001b[49m\u001b[43m(\u001b[49m\u001b[43maction\u001b[49m\u001b[43m)\u001b[49m\n\u001b[1;32m      9\u001b[0m \u001b[38;5;28mprint\u001b[39m(fidelity)\n",
      "File \u001b[0;32m/mnt/c/Users/every/OneDrive/Documents/Yataiga/QFoam/GitHub/RdQuantum/rdquantum/hamiltonian/rydberg_cz.py:169\u001b[0m, in \u001b[0;36mRydberg_Cz.evaluation\u001b[0;34m(self, action)\u001b[0m\n\u001b[1;32m    168\u001b[0m \u001b[38;5;28;01mdef\u001b[39;00m \u001b[38;5;21mevaluation\u001b[39m(\u001b[38;5;28mself\u001b[39m, action):\n\u001b[0;32m--> 169\u001b[0m     results \u001b[38;5;241m=\u001b[39m \u001b[38;5;28;43mself\u001b[39;49m\u001b[38;5;241;43m.\u001b[39;49m\u001b[43m_solve\u001b[49m\u001b[43m(\u001b[49m\u001b[43maction\u001b[49m\u001b[43m,\u001b[49m\u001b[43m \u001b[49m\u001b[43me_ops\u001b[49m\u001b[38;5;241;43m=\u001b[39;49m\u001b[38;5;28;43mself\u001b[39;49m\u001b[38;5;241;43m.\u001b[39;49m\u001b[43mrho_bell\u001b[49m\u001b[43m)\u001b[49m\n\u001b[1;32m    171\u001b[0m     bell1 \u001b[38;5;241m=\u001b[39m results\u001b[38;5;241m.\u001b[39mexpect[\u001b[38;5;241m0\u001b[39m][\u001b[38;5;241m-\u001b[39m\u001b[38;5;241m1\u001b[39m]\n\u001b[1;32m    172\u001b[0m     bell2 \u001b[38;5;241m=\u001b[39m results\u001b[38;5;241m.\u001b[39mexpect[\u001b[38;5;241m1\u001b[39m][\u001b[38;5;241m-\u001b[39m\u001b[38;5;241m1\u001b[39m]\n",
      "File \u001b[0;32m/mnt/c/Users/every/OneDrive/Documents/Yataiga/QFoam/GitHub/RdQuantum/rdquantum/hamiltonian/rydberg_cz.py:143\u001b[0m, in \u001b[0;36mRydberg_Cz._solve\u001b[0;34m(self, action, e_ops)\u001b[0m\n\u001b[1;32m    142\u001b[0m \u001b[38;5;28;01mdef\u001b[39;00m \u001b[38;5;21m_solve\u001b[39m(\u001b[38;5;28mself\u001b[39m, action, e_ops\u001b[38;5;241m=\u001b[39m[]):\n\u001b[0;32m--> 143\u001b[0m     \u001b[38;5;28mself\u001b[39m\u001b[38;5;241m.\u001b[39mcontrol_params \u001b[38;5;241m=\u001b[39m \u001b[38;5;28;43mself\u001b[39;49m\u001b[38;5;241;43m.\u001b[39;49m\u001b[43m_action_to_control_params\u001b[49m\u001b[43m(\u001b[49m\u001b[43maction\u001b[49m\u001b[43m)\u001b[49m\n\u001b[1;32m    144\u001b[0m     \u001b[38;5;28mself\u001b[39m\u001b[38;5;241m.\u001b[39mhamiltonian \u001b[38;5;241m=\u001b[39m \u001b[38;5;28mself\u001b[39m\u001b[38;5;241m.\u001b[39m_get_hamiltonian(\u001b[38;5;28mself\u001b[39m\u001b[38;5;241m.\u001b[39mcontrol_params)\n\u001b[1;32m    145\u001b[0m     \u001b[38;5;28mself\u001b[39m\u001b[38;5;241m.\u001b[39mdecay_terms \u001b[38;5;241m=\u001b[39m \u001b[38;5;28mself\u001b[39m\u001b[38;5;241m.\u001b[39m_get_decay_terms(\u001b[38;5;28mself\u001b[39m\u001b[38;5;241m.\u001b[39mgamma_p, \u001b[38;5;28mself\u001b[39m\u001b[38;5;241m.\u001b[39mgamma_r)\n",
      "File \u001b[0;32m/mnt/c/Users/every/OneDrive/Documents/Yataiga/QFoam/GitHub/RdQuantum/rdquantum/hamiltonian/rydberg_cz.py:62\u001b[0m, in \u001b[0;36mRydberg_Cz._action_to_control_params\u001b[0;34m(self, action)\u001b[0m\n\u001b[1;32m     57\u001b[0m \u001b[38;5;28;01mdef\u001b[39;00m \u001b[38;5;21m_action_to_control_params\u001b[39m(\u001b[38;5;28mself\u001b[39m, action):\n\u001b[1;32m     58\u001b[0m     control_params \u001b[38;5;241m=\u001b[39m {\n\u001b[1;32m     59\u001b[0m         \u001b[38;5;124m'\u001b[39m\u001b[38;5;124momega_p\u001b[39m\u001b[38;5;124m'\u001b[39m: GaussianPulse(\n\u001b[1;32m     60\u001b[0m             amp \u001b[38;5;241m=\u001b[39m \u001b[38;5;28mself\u001b[39m\u001b[38;5;241m.\u001b[39mr_amp \u001b[38;5;241m*\u001b[39m action[\u001b[38;5;124m'\u001b[39m\u001b[38;5;124momega_p_amp\u001b[39m\u001b[38;5;124m'\u001b[39m], \n\u001b[1;32m     61\u001b[0m             gate_time \u001b[38;5;241m=\u001b[39m \u001b[38;5;28mself\u001b[39m\u001b[38;5;241m.\u001b[39mr_gate_time \u001b[38;5;241m*\u001b[39m action[\u001b[38;5;124m'\u001b[39m\u001b[38;5;124mgate_time\u001b[39m\u001b[38;5;124m'\u001b[39m], \n\u001b[0;32m---> 62\u001b[0m             tau \u001b[38;5;241m=\u001b[39m \u001b[38;5;241;43m0.165\u001b[39;49m\u001b[43m \u001b[49m\u001b[38;5;241;43m*\u001b[39;49m\u001b[43m \u001b[49m\u001b[38;5;28;43mself\u001b[39;49m\u001b[38;5;241;43m.\u001b[39;49m\u001b[43mr_gate_time\u001b[49m\u001b[43m \u001b[49m\u001b[38;5;241;43m*\u001b[39;49m\u001b[43m \u001b[49m\u001b[43maction\u001b[49m\u001b[43m[\u001b[49m\u001b[38;5;124;43m'\u001b[39;49m\u001b[38;5;124;43mgate_time\u001b[39;49m\u001b[38;5;124;43m'\u001b[39;49m\u001b[43m]\u001b[49m\n\u001b[1;32m     63\u001b[0m             ),\n\u001b[1;32m     64\u001b[0m         \u001b[38;5;124m'\u001b[39m\u001b[38;5;124momega_r\u001b[39m\u001b[38;5;124m'\u001b[39m: \u001b[38;5;28mself\u001b[39m\u001b[38;5;241m.\u001b[39mr_amp \u001b[38;5;241m*\u001b[39m action[\u001b[38;5;124m'\u001b[39m\u001b[38;5;124momega_r_amp\u001b[39m\u001b[38;5;124m'\u001b[39m],\n\u001b[1;32m     65\u001b[0m         \u001b[38;5;124m'\u001b[39m\u001b[38;5;124mdelta_p\u001b[39m\u001b[38;5;124m'\u001b[39m: \u001b[38;5;28mself\u001b[39m\u001b[38;5;241m.\u001b[39mr_amp \u001b[38;5;241m*\u001b[39m action[\u001b[38;5;124m'\u001b[39m\u001b[38;5;124mdelta_p_amp\u001b[39m\u001b[38;5;124m'\u001b[39m],\n\u001b[1;32m     66\u001b[0m         \u001b[38;5;124m'\u001b[39m\u001b[38;5;124mgate_time\u001b[39m\u001b[38;5;124m'\u001b[39m: \u001b[38;5;28mself\u001b[39m\u001b[38;5;241m.\u001b[39mr_gate_time \u001b[38;5;241m*\u001b[39m action[\u001b[38;5;124m'\u001b[39m\u001b[38;5;124mgate_time\u001b[39m\u001b[38;5;124m'\u001b[39m],\n\u001b[1;32m     67\u001b[0m         \u001b[38;5;124m'\u001b[39m\u001b[38;5;124mtimes\u001b[39m\u001b[38;5;124m'\u001b[39m: np\u001b[38;5;241m.\u001b[39mlinspace(\u001b[38;5;241m0.0\u001b[39m, \u001b[38;5;28mself\u001b[39m\u001b[38;5;241m.\u001b[39mr_gate_time \u001b[38;5;241m*\u001b[39m action[\u001b[38;5;124m'\u001b[39m\u001b[38;5;124mgate_time\u001b[39m\u001b[38;5;124m'\u001b[39m], \u001b[38;5;241m100\u001b[39m)\n\u001b[1;32m     68\u001b[0m     }\n\u001b[1;32m     69\u001b[0m     \u001b[38;5;28;01mreturn\u001b[39;00m control_params\n",
      "\u001b[0;31mTypeError\u001b[0m: can't multiply sequence by non-int of type 'float'"
     ]
    }
   ],
   "source": [
    "H = Rydberg_Cz()\n",
    "action = {\n",
    "    'omega_p_amp': [100],\n",
    "    'omega_r_amp': [175],\n",
    "    'delta_p_amp': [400],\n",
    "    'gate_time': [1.0]\n",
    "}\n",
    "fidelity = H.evaluation(action)\n",
    "print(fidelity)"
   ]
  },
  {
   "cell_type": "code",
   "execution_count": null,
   "id": "4fe1a7d2",
   "metadata": {},
   "outputs": [],
   "source": [
    "prob, measurement_outcome, reward = H.measurement(action)\n",
    "print(prob, measurement_outcome, reward)\n",
    "print(type(prob), type(measurement_outcome), type(reward))"
   ]
  },
  {
   "cell_type": "markdown",
   "id": "780f25ed-fc55-4ea9-9755-4b16907222a4",
   "metadata": {},
   "source": [
    "# Loading Environment"
   ]
  },
  {
   "cell_type": "code",
   "execution_count": null,
   "id": "64ef5ea8-0d1a-4453-ad2c-e420a2e10ecd",
   "metadata": {},
   "outputs": [],
   "source": [
    "# load environment\n",
    "env = gym.make('rdquantum/HamiltonianTrainer-v2023.04.22', Hamiltonian=Rydberg_Cz)\n",
    "\n",
    "def env_creator(env_config):\n",
    "    return env  # return an env instance\n",
    "\n",
    "register_env(\"HamiltonianTrainer-v2023.04.22\", env_creator)"
   ]
  },
  {
   "cell_type": "code",
   "execution_count": null,
   "id": "6679bafd-d131-490f-9c1a-d929da39d88b",
   "metadata": {
    "tags": []
   },
   "outputs": [],
   "source": [
    "algo = (\n",
    "    PPOConfig()\n",
    "    .framework(framework='torch')\n",
    "    .training(train_batch_size=1, sgd_minibatch_size=1, num_sgd_iter=1)\n",
    "    .rollouts(num_rollout_workers=1)\n",
    "    .resources(num_gpus=0)\n",
    "    # .environment(env='QubitStatePrep-v2023.04.11', disable_env_checking=True)\n",
    "    .environment(env='HamiltonianTrainer-v2023.04.22')\n",
    "    .build()\n",
    ")\n",
    "result = algo.train()\n",
    "# episode_rewards = []\n",
    "# for i in range(1):\n",
    "#     result = algo.train()\n",
    "#     episode_reward = np.asarray(result['hist_stats']['episode_reward'][-1:])\n",
    "#     episode_rewards.append(episode_reward)\n",
    "\n",
    "# #     if i % 5 == 0:\n",
    "# #         checkpoint_dir = algo.save()\n",
    "# #         print(f\"Checkpoint saved in directory {checkpoint_dir}\")\n",
    "# episode_rewards = np.asarray(episode_rewards)"
   ]
  },
  {
   "cell_type": "code",
   "execution_count": null,
   "id": "ab7b9c5d-f521-4900-9ef2-ace3fe17964e",
   "metadata": {},
   "outputs": [],
   "source": [
    "plt.matshow(episode_rewards.transpose())\n",
    "plt.xlabel(\"Epoch\")\n",
    "plt.ylabel(\"Episode\")\n",
    "plt.gca().invert_yaxis()\n",
    "plt.gca().tick_params(axis=\"x\", bottom=True, top=False, labelbottom=True, labeltop=False)\n",
    "# plt.colorbar()"
   ]
  },
  {
   "cell_type": "code",
   "execution_count": null,
   "id": "783e7a5f",
   "metadata": {},
   "outputs": [],
   "source": [
    "result"
   ]
  },
  {
   "cell_type": "code",
   "execution_count": null,
   "id": "55473ef9",
   "metadata": {},
   "outputs": [],
   "source": []
  }
 ],
 "metadata": {
  "kernelspec": {
   "display_name": "Python 3",
   "language": "python",
   "name": "python3"
  },
  "language_info": {
   "codemirror_mode": {
    "name": "ipython",
    "version": 3
   },
   "file_extension": ".py",
   "mimetype": "text/x-python",
   "name": "python",
   "nbconvert_exporter": "python",
   "pygments_lexer": "ipython3",
   "version": "3.8.13"
  }
 },
 "nbformat": 4,
 "nbformat_minor": 5
}
