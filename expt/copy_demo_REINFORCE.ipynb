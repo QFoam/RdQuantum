{
 "cells": [
  {
   "cell_type": "code",
   "execution_count": 1,
   "metadata": {},
   "outputs": [],
   "source": [
    "import os\n",
    "\n",
    "import tensorflow as tf\n",
    "import tensorflow_probability as tfp\n",
    "import numpy as np\n",
    "import matplotlib.pyplot as plt\n",
    "\n",
    "import gymnasium as gym\n",
    "from rdquantum.hamiltonian import Rydberg_Cz"
   ]
  },
  {
   "cell_type": "code",
   "execution_count": 2,
   "metadata": {},
   "outputs": [],
   "source": [
    "# Define Hamiltonian\n",
    "H = Rydberg_Cz()"
   ]
  },
  {
   "cell_type": "code",
   "execution_count": 3,
   "metadata": {},
   "outputs": [],
   "source": [
    "# Create environment\n",
    "env = gym.make('rdquantum/HamiltonianTrainer-v2023.04.22', Hamiltonian=Rydberg_Cz)\n",
    "observation, info = env.reset()\n",
    "# print(observation, info)"
   ]
  },
  {
   "cell_type": "code",
   "execution_count": 4,
   "metadata": {},
   "outputs": [],
   "source": [
    "# Hyperparameters\n",
    "algo = 'REINFORCE'\n",
    "B = 30 # batch_size\n",
    "EPOCHS = 50\n",
    "eval_interval = 1\n",
    "lr = 1e-2 # 1e-2 for SGD\n",
    "policy_steps = 20\n",
    "\n",
    "log_prob_clip = 5\n",
    "grad_clip = 0.001\n",
    "importance_ratio_eps = 0.2\n",
    "value_loss_coeff = 0.5\n",
    "\n",
    "optimizer = tf.optimizers.Adam(learning_rate=lr)"
   ]
  },
  {
   "cell_type": "code",
   "execution_count": 5,
   "metadata": {},
   "outputs": [],
   "source": [
    "# rootdir = r'.'\n",
    "r_amp = H.r_amp\n",
    "r_gate_time = H.r_gate_time\n",
    "# print(r_amp, r_gate_time)\n",
    "\n",
    "\n",
    "# trainable variables\n",
    "actions = ['omega_p_amp', 'omega_r_amp', 'delta_p_amp', 'gate_time']\n",
    "mean = {s : tf.Variable(tf.random.uniform([], minval=0, maxval=1, dtype=tf.float32), name='mean_'+s) for s in actions}\n",
    "sigma = {s : tf.Variable(0.5, name='sigma_'+s) for s in actions}\n",
    "baseline = tf.Variable(0.0, name='baseline')"
   ]
  },
  {
   "cell_type": "code",
   "execution_count": 6,
   "metadata": {},
   "outputs": [],
   "source": [
    "test_action = {\n",
    "    'omega_p_amp': [100/H.r_amp],\n",
    "    'omega_r_amp': [175/H.r_amp],\n",
    "    'delta_p_amp': [400/H.r_amp],\n",
    "    'gate_time': [1.0/H.r_gate_time]\n",
    "}"
   ]
  },
  {
   "cell_type": "code",
   "execution_count": 7,
   "metadata": {},
   "outputs": [],
   "source": [
    "def reward_sampler(a, _type):\n",
    "    # print('a: ', a, '\\n')\n",
    "    rewards = []\n",
    "    \n",
    "    for i in range(B):\n",
    "        a_np = {s : np.array(a[s][i] if _type=='collection' else [a[s]]) for s in actions}\n",
    "        # print('a_np: ', a_np, '\\n')\n",
    "        observation, reward, terminated, truncated, info = env.step(a_np)\n",
    "        rewards.append(reward)\n",
    "\n",
    "    return tf.cast(rewards, tf.float32)"
   ]
  },
  {
   "cell_type": "code",
   "execution_count": 8,
   "metadata": {},
   "outputs": [],
   "source": [
    "def compute_log_prob(a, mean, sigma):\n",
    "    sigma_eps = 1e-5 # for mumerical stability\n",
    "    log_prob = 0.\n",
    "    for s in a.keys():\n",
    "        log_prob += - tf.math.log(tf.math.abs(sigma[s]) + sigma_eps) \\\n",
    "            - 0.5 * (a[s] - mean[s])**2 / (sigma[s]**2 + sigma_eps)\n",
    "    return log_prob"
   ]
  },
  {
   "cell_type": "code",
   "execution_count": 9,
   "metadata": {},
   "outputs": [],
   "source": [
    "def action_sampler(actions, sample_batch = 1):\n",
    "    N = {s : tfp.distributions.TruncatedNormal(loc=mean[s], scale=sigma[s], low=0, high=1) for s in actions}\n",
    "    a = {s : N[s].sample(B) for s in actions}\n",
    "    return a"
   ]
  },
  {
   "cell_type": "code",
   "execution_count": 10,
   "metadata": {
    "tags": []
   },
   "outputs": [
    {
     "name": "stdout",
     "output_type": "stream",
     "text": [
      "WARNING:tensorflow:Calling GradientTape.gradient on a persistent tape inside its context is significantly less efficient than calling it outside the context (it causes the gradient ops to be recorded on the tape, leading to increased CPU and memory usage). Only call GradientTape.gradient inside the context if you actually want to trace the gradient in order to compute higher order derivatives.\n"
     ]
    },
    {
     "name": "stderr",
     "output_type": "stream",
     "text": [
      "WARNING:tensorflow:Calling GradientTape.gradient on a persistent tape inside its context is significantly less efficient than calling it outside the context (it causes the gradient ops to be recorded on the tape, leading to increased CPU and memory usage). Only call GradientTape.gradient inside the context if you actually want to trace the gradient in order to compute higher order derivatives.\n"
     ]
    },
    {
     "name": "stdout",
     "output_type": "stream",
     "text": [
      "Epoch 1:  tf.Tensor(\n",
      "[-1.  1.  1. -1. -1. -1. -1. -1.  1.  1. -1. -1.  1.  1. -1. -1.  1. -1.\n",
      " -1.  1.  1. -1.  1.  1.  1.  1. -1. -1. -1. -1.], shape=(30,), dtype=float32)\n",
      "Epoch 2:  tf.Tensor(\n",
      "[ 1. -1.  1. -1. -1. -1. -1.  1.  1.  1. -1. -1.  1.  1. -1. -1. -1.  1.\n",
      " -1.  1.  1.  1.  1. -1. -1.  1.  1.  1. -1.  1.], shape=(30,), dtype=float32)\n",
      "Epoch 3:  tf.Tensor(\n",
      "[-1.  1. -1.  1.  1.  1. -1. -1. -1. -1.  1.  1. -1.  1.  1. -1. -1. -1.\n",
      "  1. -1. -1.  1.  1. -1.  1.  1. -1. -1. -1. -1.], shape=(30,), dtype=float32)\n",
      "Epoch 4:  tf.Tensor(\n",
      "[ 1.  1.  1.  1. -1.  1.  1.  1. -1.  1. -1. -1. -1.  1.  1.  1.  1. -1.\n",
      " -1. -1. -1. -1.  1.  1. -1.  1. -1.  1.  1.  1.], shape=(30,), dtype=float32)\n",
      "Epoch 5:  tf.Tensor(\n",
      "[ 1.  1.  1. -1.  1.  1.  1. -1. -1.  1.  1. -1. -1. -1.  1. -1.  1. -1.\n",
      "  1.  1.  1.  1.  1.  1. -1.  1.  1.  1. -1.  1.], shape=(30,), dtype=float32)\n",
      "Epoch 6:  tf.Tensor(\n",
      "[-1.  1.  1. -1. -1. -1.  1.  1. -1. -1.  1.  1.  1. -1.  1.  1. -1.  1.\n",
      "  1.  1.  1.  1.  1. -1.  1.  1.  1. -1.  1.  1.], shape=(30,), dtype=float32)\n",
      "Epoch 7:  tf.Tensor(\n",
      "[-1.  1.  1.  1. -1. -1. -1.  1. -1.  1. -1.  1. -1. -1.  1. -1.  1. -1.\n",
      " -1.  1. -1. -1.  1.  1.  1.  1.  1. -1.  1. -1.], shape=(30,), dtype=float32)\n",
      "Epoch 8:  tf.Tensor(\n",
      "[-1.  1.  1.  1.  1. -1. -1.  1.  1. -1.  1. -1. -1. -1.  1.  1. -1.  1.\n",
      "  1.  1. -1.  1. -1.  1.  1.  1. -1.  1.  1. -1.], shape=(30,), dtype=float32)\n",
      "Epoch 9:  tf.Tensor(\n",
      "[-1. -1. -1.  1. -1. -1. -1. -1.  1.  1. -1. -1.  1. -1.  1.  1.  1.  1.\n",
      "  1. -1. -1. -1. -1. -1.  1.  1.  1.  1.  1.  1.], shape=(30,), dtype=float32)\n",
      "Epoch 10:  tf.Tensor(\n",
      "[-1. -1.  1.  1. -1. -1. -1.  1.  1. -1. -1.  1.  1. -1. -1. -1.  1. -1.\n",
      " -1.  1.  1.  1.  1. -1.  1. -1.  1.  1.  1. -1.], shape=(30,), dtype=float32)\n",
      "Epoch 11:  tf.Tensor(\n",
      "[-1.  1.  1.  1. -1.  1.  1.  1.  1. -1. -1.  1. -1.  1.  1. -1.  1.  1.\n",
      "  1. -1.  1.  1.  1.  1.  1. -1.  1.  1. -1. -1.], shape=(30,), dtype=float32)\n",
      "Epoch 12:  tf.Tensor(\n",
      "[ 1. -1. -1. -1. -1. -1.  1.  1. -1.  1. -1. -1.  1.  1.  1. -1.  1.  1.\n",
      "  1. -1. -1.  1. -1.  1.  1.  1.  1. -1.  1.  1.], shape=(30,), dtype=float32)\n",
      "Epoch 13:  tf.Tensor(\n",
      "[ 1. -1. -1.  1. -1.  1.  1. -1.  1.  1. -1.  1.  1. -1. -1.  1.  1.  1.\n",
      " -1. -1.  1.  1. -1. -1.  1. -1.  1.  1.  1.  1.], shape=(30,), dtype=float32)\n",
      "Epoch 14:  tf.Tensor(\n",
      "[ 1.  1. -1.  1. -1.  1. -1. -1.  1.  1.  1.  1. -1.  1.  1.  1.  1.  1.\n",
      "  1.  1. -1.  1. -1. -1.  1.  1.  1. -1.  1.  1.], shape=(30,), dtype=float32)\n",
      "Epoch 15:  tf.Tensor(\n",
      "[ 1. -1. -1.  1. -1. -1. -1. -1. -1.  1.  1. -1.  1.  1. -1.  1.  1.  1.\n",
      "  1.  1.  1.  1. -1.  1. -1.  1.  1. -1. -1.  1.], shape=(30,), dtype=float32)\n",
      "Epoch 16:  tf.Tensor(\n",
      "[ 1. -1.  1.  1. -1.  1.  1. -1.  1. -1. -1.  1.  1.  1. -1. -1. -1. -1.\n",
      "  1.  1. -1.  1.  1. -1.  1.  1. -1.  1.  1. -1.], shape=(30,), dtype=float32)\n",
      "Epoch 17:  tf.Tensor(\n",
      "[ 1. -1.  1. -1.  1.  1. -1. -1. -1.  1.  1. -1. -1. -1. -1. -1. -1.  1.\n",
      "  1.  1.  1.  1. -1. -1.  1.  1.  1.  1. -1.  1.], shape=(30,), dtype=float32)\n",
      "Epoch 18:  tf.Tensor(\n",
      "[ 1.  1.  1.  1.  1. -1. -1.  1. -1. -1.  1.  1.  1. -1. -1. -1. -1. -1.\n",
      " -1.  1. -1.  1.  1.  1. -1. -1.  1. -1. -1. -1.], shape=(30,), dtype=float32)\n",
      "Epoch 19:  tf.Tensor(\n",
      "[ 1. -1.  1. -1.  1.  1. -1.  1. -1.  1.  1.  1.  1.  1. -1.  1.  1.  1.\n",
      "  1.  1.  1. -1. -1.  1.  1. -1.  1.  1.  1. -1.], shape=(30,), dtype=float32)\n",
      "Epoch 20:  tf.Tensor(\n",
      "[-1. -1.  1.  1. -1.  1.  1.  1. -1.  1.  1.  1. -1.  1. -1. -1.  1.  1.\n",
      " -1. -1.  1. -1.  1.  1. -1. -1.  1. -1.  1.  1.], shape=(30,), dtype=float32)\n",
      "Epoch 21:  tf.Tensor(\n",
      "[-1.  1. -1. -1.  1.  1. -1. -1. -1.  1. -1. -1.  1. -1.  1.  1. -1.  1.\n",
      "  1. -1. -1.  1.  1. -1.  1. -1.  1. -1. -1.  1.], shape=(30,), dtype=float32)\n",
      "Epoch 22:  tf.Tensor(\n",
      "[ 1. -1.  1.  1.  1.  1.  1. -1. -1.  1. -1.  1.  1. -1.  1.  1. -1.  1.\n",
      "  1. -1.  1. -1.  1.  1. -1.  1.  1.  1. -1. -1.], shape=(30,), dtype=float32)\n",
      "Epoch 23:  tf.Tensor(\n",
      "[ 1. -1. -1. -1.  1.  1. -1. -1. -1.  1.  1.  1.  1. -1.  1. -1. -1. -1.\n",
      "  1.  1.  1.  1. -1. -1.  1.  1.  1.  1.  1. -1.], shape=(30,), dtype=float32)\n",
      "Epoch 24:  tf.Tensor(\n",
      "[-1.  1.  1.  1.  1.  1. -1.  1. -1. -1.  1. -1.  1.  1. -1.  1.  1.  1.\n",
      " -1. -1.  1.  1.  1. -1.  1.  1. -1.  1.  1. -1.], shape=(30,), dtype=float32)\n",
      "Epoch 25:  tf.Tensor(\n",
      "[ 1. -1. -1.  1. -1. -1.  1. -1. -1. -1. -1. -1. -1.  1. -1. -1.  1.  1.\n",
      " -1.  1.  1. -1.  1. -1. -1. -1. -1.  1.  1. -1.], shape=(30,), dtype=float32)\n",
      "Epoch 26:  tf.Tensor(\n",
      "[-1. -1.  1. -1.  1.  1.  1.  1. -1.  1. -1.  1.  1. -1. -1. -1.  1.  1.\n",
      "  1.  1.  1.  1. -1.  1.  1. -1.  1. -1.  1. -1.], shape=(30,), dtype=float32)\n",
      "Epoch 27:  tf.Tensor(\n",
      "[ 1.  1. -1.  1. -1.  1. -1. -1.  1.  1. -1.  1.  1.  1. -1. -1. -1. -1.\n",
      "  1.  1.  1.  1.  1.  1.  1.  1. -1. -1. -1. -1.], shape=(30,), dtype=float32)\n",
      "Epoch 28:  tf.Tensor(\n",
      "[ 1.  1. -1.  1.  1. -1. -1.  1.  1. -1.  1. -1. -1.  1.  1. -1.  1.  1.\n",
      " -1. -1.  1.  1. -1.  1.  1.  1.  1.  1.  1.  1.], shape=(30,), dtype=float32)\n",
      "Epoch 29:  tf.Tensor(\n",
      "[-1.  1.  1. -1. -1. -1. -1.  1.  1.  1. -1.  1. -1.  1.  1.  1. -1.  1.\n",
      "  1. -1.  1.  1.  1.  1.  1.  1.  1. -1. -1.  1.], shape=(30,), dtype=float32)\n",
      "Epoch 30:  tf.Tensor(\n",
      "[ 1. -1.  1.  1.  1.  1.  1.  1. -1. -1.  1.  1. -1.  1.  1.  1.  1. -1.\n",
      "  1. -1. -1. -1.  1. -1. -1. -1.  1.  1.  1.  1.], shape=(30,), dtype=float32)\n",
      "Epoch 31:  tf.Tensor(\n",
      "[-1. -1. -1.  1.  1.  1. -1. -1.  1.  1. -1.  1. -1.  1.  1. -1.  1.  1.\n",
      "  1.  1. -1. -1.  1. -1. -1.  1. -1.  1. -1. -1.], shape=(30,), dtype=float32)\n",
      "Epoch 32:  tf.Tensor(\n",
      "[ 1.  1. -1.  1. -1.  1. -1.  1.  1.  1.  1.  1.  1.  1.  1.  1. -1.  1.\n",
      "  1. -1. -1.  1.  1. -1.  1.  1. -1. -1.  1.  1.], shape=(30,), dtype=float32)\n",
      "Epoch 33:  tf.Tensor(\n",
      "[-1. -1.  1. -1.  1.  1. -1. -1. -1.  1.  1. -1. -1. -1. -1.  1.  1. -1.\n",
      " -1. -1. -1.  1.  1.  1. -1.  1. -1.  1. -1. -1.], shape=(30,), dtype=float32)\n",
      "Epoch 34:  tf.Tensor(\n",
      "[ 1. -1.  1. -1. -1.  1.  1. -1.  1. -1.  1.  1.  1.  1.  1.  1. -1. -1.\n",
      "  1. -1. -1. -1.  1. -1. -1.  1.  1.  1. -1.  1.], shape=(30,), dtype=float32)\n",
      "Epoch 35:  tf.Tensor(\n",
      "[ 1.  1. -1. -1.  1. -1. -1. -1. -1. -1.  1.  1.  1.  1. -1. -1.  1. -1.\n",
      " -1.  1. -1. -1.  1.  1.  1.  1.  1.  1.  1. -1.], shape=(30,), dtype=float32)\n",
      "Epoch 36:  tf.Tensor(\n",
      "[ 1.  1. -1. -1. -1.  1. -1. -1.  1.  1.  1.  1.  1. -1. -1. -1.  1. -1.\n",
      " -1. -1.  1.  1.  1. -1.  1. -1. -1. -1.  1.  1.], shape=(30,), dtype=float32)\n",
      "Epoch 37:  tf.Tensor(\n",
      "[ 1. -1.  1.  1.  1. -1.  1. -1. -1.  1. -1.  1. -1. -1.  1.  1. -1.  1.\n",
      " -1.  1. -1. -1.  1.  1.  1.  1. -1.  1. -1.  1.], shape=(30,), dtype=float32)\n",
      "Epoch 38:  tf.Tensor(\n",
      "[-1.  1.  1.  1. -1.  1. -1. -1. -1.  1.  1. -1.  1.  1. -1.  1.  1. -1.\n",
      " -1.  1.  1. -1.  1. -1.  1.  1.  1.  1. -1. -1.], shape=(30,), dtype=float32)\n",
      "Epoch 39:  tf.Tensor(\n",
      "[-1. -1.  1. -1.  1.  1.  1. -1. -1.  1. -1.  1.  1. -1.  1. -1.  1.  1.\n",
      "  1. -1. -1.  1. -1. -1. -1. -1.  1.  1.  1. -1.], shape=(30,), dtype=float32)\n",
      "Epoch 40:  tf.Tensor(\n",
      "[ 1. -1. -1. -1. -1. -1. -1.  1. -1.  1. -1. -1.  1.  1.  1.  1. -1.  1.\n",
      " -1.  1. -1.  1. -1. -1.  1. -1. -1.  1.  1.  1.], shape=(30,), dtype=float32)\n",
      "Epoch 41:  tf.Tensor(\n",
      "[-1.  1. -1. -1.  1.  1. -1.  1.  1. -1. -1.  1. -1.  1. -1.  1. -1. -1.\n",
      " -1. -1.  1. -1.  1.  1.  1.  1. -1. -1.  1. -1.], shape=(30,), dtype=float32)\n",
      "Epoch 42:  tf.Tensor(\n",
      "[ 1. -1.  1. -1.  1.  1.  1. -1. -1.  1.  1. -1.  1.  1.  1.  1.  1.  1.\n",
      "  1.  1.  1.  1.  1.  1.  1.  1.  1.  1. -1. -1.], shape=(30,), dtype=float32)\n",
      "Epoch 43:  tf.Tensor(\n",
      "[ 1.  1.  1. -1. -1.  1.  1. -1.  1. -1.  1. -1. -1.  1.  1.  1.  1. -1.\n",
      "  1. -1. -1.  1. -1. -1. -1. -1.  1. -1. -1.  1.], shape=(30,), dtype=float32)\n",
      "Epoch 44:  tf.Tensor(\n",
      "[-1. -1. -1.  1. -1.  1. -1. -1.  1.  1.  1.  1.  1.  1.  1.  1.  1. -1.\n",
      "  1.  1. -1.  1.  1.  1. -1. -1. -1.  1.  1.  1.], shape=(30,), dtype=float32)\n",
      "Epoch 45:  tf.Tensor(\n",
      "[ 1.  1.  1.  1.  1.  1. -1.  1.  1. -1.  1. -1. -1.  1. -1. -1.  1. -1.\n",
      "  1.  1.  1. -1. -1. -1. -1. -1. -1. -1. -1.  1.], shape=(30,), dtype=float32)\n",
      "Epoch 46:  tf.Tensor(\n",
      "[ 1.  1.  1.  1. -1. -1. -1.  1.  1.  1.  1. -1.  1. -1.  1. -1.  1. -1.\n",
      " -1.  1.  1.  1.  1.  1. -1. -1.  1. -1. -1. -1.], shape=(30,), dtype=float32)\n",
      "Epoch 47:  tf.Tensor(\n",
      "[ 1.  1.  1. -1.  1.  1.  1.  1. -1.  1.  1. -1.  1.  1.  1. -1.  1.  1.\n",
      "  1.  1. -1.  1. -1.  1.  1. -1. -1. -1.  1.  1.], shape=(30,), dtype=float32)\n",
      "Epoch 48:  tf.Tensor(\n",
      "[ 1.  1.  1. -1.  1.  1.  1.  1. -1.  1.  1. -1. -1.  1.  1. -1.  1. -1.\n",
      "  1. -1. -1. -1. -1. -1. -1. -1. -1. -1. -1.  1.], shape=(30,), dtype=float32)\n",
      "Epoch 49:  tf.Tensor(\n",
      "[ 1. -1.  1. -1. -1. -1.  1.  1.  1.  1. -1.  1.  1.  1.  1.  1. -1. -1.\n",
      " -1.  1.  1.  1.  1.  1.  1. -1.  1.  1.  1.  1.], shape=(30,), dtype=float32)\n",
      "Epoch 50:  tf.Tensor(\n",
      "[-1.  1.  1. -1.  1.  1.  1. -1. -1.  1. -1.  1. -1. -1. -1.  1. -1.  1.\n",
      " -1. -1.  1.  1. -1. -1.  1. -1. -1. -1.  1. -1.], shape=(30,), dtype=float32)\n"
     ]
    }
   ],
   "source": [
    "train_samples = 0\n",
    "train_rewards = []\n",
    "for epoch in range(1,EPOCHS+1):\n",
    "\n",
    "    train_samples += B\n",
    "    # print('train_samples:', train_samples)\n",
    "\n",
    "    # sample a batch of actions from Gaussian policy\n",
    "    a = action_sampler(actions, sample_batch=B)\n",
    "\n",
    "    # collect those rewards\n",
    "    R =  reward_sampler(a, 'collection')\n",
    "    # print('rewards: ', R)\n",
    "\n",
    "    # log prob according to old policy (required for importance ratio)\n",
    "    if epoch == 1: mean_old, sigma_old = mean, sigma\n",
    "    log_prob_old = compute_log_prob(a, mean_old, sigma_old)\n",
    "    log_prob_old = tf.clip_by_value(log_prob_old, -log_prob_clip, log_prob_clip)\n",
    "    mean_old = tf.nest.map_structure(tf.identity, mean)\n",
    "    sigma_old = tf.nest.map_structure(tf.identity, sigma)\n",
    "    \n",
    "    # calculate policy loss and do several gradient updates\n",
    "    for i in range(policy_steps):\n",
    "        with tf.GradientTape(persistent=True) as tape:\n",
    "            # log prob according to the current policy\n",
    "            log_prob = compute_log_prob(a, mean, sigma)\n",
    "            log_prob = tf.clip_by_value(log_prob, -log_prob_clip, log_prob_clip)\n",
    "\n",
    "            A = R - baseline # action advantages\n",
    "\n",
    "            if algo == 'REINFORCE':\n",
    "                policy_loss_batch = - A * log_prob\n",
    "\n",
    "            if algo == 'PPO':\n",
    "                importance_ratio = tf.math.exp(log_prob - log_prob_old)\n",
    "                importance_ratio_clip = tf.clip_by_value(importance_ratio, \n",
    "                            1-importance_ratio_eps, 1+importance_ratio_eps)\n",
    "                policy_loss_batch = -tf.minimum(importance_ratio*A, importance_ratio_clip*A)\n",
    "\n",
    "            policy_loss = tf.reduce_mean(policy_loss_batch) # reduce over batch\n",
    "            value_loss = tf.reduce_mean(A**2)\n",
    "            loss = policy_loss + value_loss_coeff * value_loss\n",
    "            # print(loss)\n",
    "\n",
    "            grads = tape.gradient(loss, tape.watched_variables())\n",
    "            grads = tf.clip_by_value(grads, -grad_clip, grad_clip)\n",
    "            optimizer.apply_gradients(zip(grads, tape.watched_variables()))\n",
    "            \n",
    "    print('Epoch %d: ' %(epoch), R)\n",
    "    train_rewards.append(np.array(R))\n",
    "    # log['train_actions'].append(np.array(a['theta']))\n",
    "    # log['train_epochs'].append(epoch)\n",
    "    # log['train_samples'].append(train_samples)\n",
    "    # if epoch % eval_interval == 0: evaluation(epoch, log)\n",
    "\n",
    "run_params = dict(B = B, EPOCHS = EPOCHS, eval_interval = eval_interval,\n",
    "        lr = lr, policy_steps = policy_steps, log_prob_clip = log_prob_clip,\n",
    "        grad_clip = grad_clip, importance_ratio_eps = importance_ratio_eps,\n",
    "        value_loss_coeff = value_loss_coeff)            "
   ]
  },
  {
   "cell_type": "code",
   "execution_count": 11,
   "metadata": {},
   "outputs": [
    {
     "data": {
      "text/plain": [
       "<tf.Tensor: shape=(30,), dtype=float32, numpy=\n",
       "array([-1.,  1.,  1., -1.,  1.,  1.,  1., -1., -1.,  1., -1.,  1., -1.,\n",
       "       -1., -1.,  1., -1.,  1., -1., -1.,  1.,  1., -1., -1.,  1., -1.,\n",
       "       -1., -1.,  1., -1.], dtype=float32)>"
      ]
     },
     "execution_count": 11,
     "metadata": {},
     "output_type": "execute_result"
    }
   ],
   "source": [
    "R"
   ]
  },
  {
   "cell_type": "code",
   "execution_count": 12,
   "metadata": {
    "colab": {
     "base_uri": "https://localhost:8080/",
     "height": 452
    },
    "executionInfo": {
     "elapsed": 1707,
     "status": "ok",
     "timestamp": 1681368543198,
     "user": {
      "displayName": "張子軒",
      "userId": "11622394988518650577"
     },
     "user_tz": -480
    },
    "id": "IXTctuZi0YqU",
    "outputId": "6de62e4a-2c7a-49b5-e637-367e0a0aa43b",
    "tags": []
   },
   "outputs": [
    {
     "data": {
      "image/png": "[encoded data removed]",
      "text/plain": [
       "<Figure size 576x345.6 with 1 Axes>"
      ]
     },
     "metadata": {
      "needs_background": "light"
     },
     "output_type": "display_data"
    }
   ],
   "source": [
    "result = np.array(train_rewards)\n",
    "plt.matshow(np.reshape(result, (EPOCHS, B)).transpose())\n",
    "plt.xlabel(\"Epoch\")\n",
    "plt.ylabel(\"Episode\")\n",
    "plt.gca().invert_yaxis()\n",
    "plt.gca().tick_params(axis=\"x\", bottom=True, top=False, labelbottom=True, labeltop=False)\n",
    "# plt.colorbar()"
   ]
  },
  {
   "cell_type": "code",
   "execution_count": null,
   "metadata": {
    "id": "vEn6t9e6XqHq"
   },
   "outputs": [],
   "source": []
  }
 ],
 "metadata": {
  "colab": {
   "authorship_tag": "ABX9TyMePkOqbTVxOTgKwEfY0Fg1",
   "provenance": []
  },
  "kernelspec": {
   "display_name": "Python 3",
   "language": "python",
   "name": "python3"
  },
  "language_info": {
   "codemirror_mode": {
    "name": "ipython",
    "version": 3
   },
   "file_extension": ".py",
   "mimetype": "text/x-python",
   "name": "python",
   "nbconvert_exporter": "python",
   "pygments_lexer": "ipython3",
   "version": "3.8.13"
  }
 },
 "nbformat": 4,
 "nbformat_minor": 4
}
